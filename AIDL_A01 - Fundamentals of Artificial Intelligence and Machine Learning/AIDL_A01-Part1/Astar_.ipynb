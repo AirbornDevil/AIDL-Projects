{
  "cells": [
    {
      "attachments": {},
      "cell_type": "markdown",
      "metadata": {
        "id": "bAcN4y2Tyrr8"
      },
      "source": [
        "# A* Search Algorithm\n",
        "A* is one of the most successful search algorithms to find the shortest path between nodes or graphs.\n",
        "\n",
        "A* acheives **optimality** and **completeness**, so it is guaranteed to find the best possible solution if a solution to the given problem exists."
      ]
    },
    {
      "attachments": {},
      "cell_type": "markdown",
      "metadata": {
        "id": "XslRBmF70rBe"
      },
      "source": [
        "\n",
        "\n",
        "* **Node** (State) - All potential position or stops with a unique identification\n",
        "\n",
        "* **Transition** - The act of moving between states or nodes.\n",
        "\n",
        "* **Starting Node** - Where to start searching\n",
        "\n",
        "* **Goal Node** - The target to stop searching.\n",
        "\n",
        "* **Search Space** - A collection of nodes, like all board positions of a board game.\n",
        "\n",
        "* **Cost** - Numerical value (distance, time, financial expense) for the path from a node to another node.\n",
        "\n",
        "* **g(n)** - this represents the exact cost of the path from the starting node to any node n.\n",
        "\n",
        "* **h(n)** - this represents the heuristic estimated cost from node n to the goal node.\n",
        "\n",
        "* **f(n)** - lowest cost in the neighboring node n\n",
        "\n",
        "\n",
        "\n",
        "\n",
        "\n",
        "\n",
        "\n",
        "\n",
        "\n"
      ]
    },
    {
      "attachments": {},
      "cell_type": "markdown",
      "metadata": {
        "id": "kZhrn7DD3N6v"
      },
      "source": [
        "Each time A* enters a node, it calculates the cost, f(n) (n being the neighboring node), to travel to all of the neighboring nodes, and then enters the node with the lowest value of f(n).\n",
        "\n",
        "These values we calculate using the following formula:\n",
        "\n",
        "```\n",
        "f(n) = g(n) + h(n)\n",
        "```"
      ]
    },
    {
      "attachments": {},
      "cell_type": "markdown",
      "metadata": {
        "id": "DqmNu4L1kfc3"
      },
      "source": [
        "#### There are generally three approximation heuristics to calculate h(n)\n",
        "\n",
        "##### 1) Manhattan Distance \n",
        "\n",
        "It is the sum of absolute values of differences in the goal’s x and y coordinates and the current cell’s x and y coordinates respectively:\n",
        "\n",
        "```\n",
        "h = abs(current_cell.x – goal.x) + abs(current_cell.y – goal.y)\n",
        "```\n",
        "When to use this heuristic? – When we are allowed to move only in four directions only (right, left, top, bottom)\n",
        "\n",
        "##### 2) Diagonal Distance \n",
        "\n",
        "It is the maximum of absolute values of differences in the goal’s x and y coordinates and the current cell’s x and y coordinates respectively:\n",
        "\n",
        "\n",
        "```\n",
        "dx = abs(current_cell.x – goal.x)\n",
        "dy = abs(current_cell.y – goal.y)\n",
        " \n",
        "h = D * (dx + dy) + (D2 - 2 * D) * min(dx, dy)\n",
        "```\n",
        "\n",
        "where D is length of each node (usually = 1) and D2 is diagonal distance between each node (usually = sqrt(2) ).\n",
        "\n",
        "When to use this heuristic? – When we are allowed to move in eight directions only (similar to a move of a King in Chess)\n",
        "\n",
        "##### 3) Euclidean Distance\n",
        "It the distance between the current cell and the goal cell using the distance formula:\n",
        "\n",
        "```\n",
        " h = sqrt ( (current_cell.x – goal.x)**2 + \n",
        "            (current_cell.y – goal.y)**2 )\n",
        "```\n",
        "\n",
        "When to use this heuristic? – When we are allowed to move in any directions."
      ]
    },
    {
      "attachments": {},
      "cell_type": "markdown",
      "metadata": {},
      "source": [
        "##### 1. What problem does the algorithm solve?\n",
        "\n",
        "A* is a searching algorithm that is used to find the shortest path between a starting and a final point.\n",
        "It is often used for map traversal to find the shortest path to be taken and was initially designed as a graph traversal problem, to help build a robot that can find its own course."
      ]
    },
    {
      "attachments": {},
      "cell_type": "markdown",
      "metadata": {},
      "source": [
        "##### 2. When is the algorithm most suitable to use?\n",
        "\n",
        "The A* algorithm is used in many occasions such as robotics, video games, route planning, logistics, and AI for pathfinding and optimization problems."
      ]
    },
    {
      "attachments": {},
      "cell_type": "markdown",
      "metadata": {},
      "source": [
        "##### 3. What are some examples of applications of the algorithm?\n",
        "\n",
        "* In robotics A* is used in order to help robots navigate obstacles and find optimal paths. \n",
        "* In video games, NPCs are able to navigate game environments intelligently with the help of A*.\n",
        "* Route planning applications use A* to find the shortest or fastest routes between locations.\n",
        "* Logistics industries make their vehicle routes and schedules using A* in order to achieve optimality.\n",
        "* In AI systems, such as natural language processing and machine learning, A* is employed to optimize decision-making processes."
      ]
    },
    {
      "attachments": {},
      "cell_type": "markdown",
      "metadata": {
        "id": "lVl5beR7neY3"
      },
      "source": [
        "## A Program to implement A* Search Algorithm\n",
        "\n",
        "based on https://github.com/MAN1986/pyamaze/blob/main/Demos/A-Star/aStarDemo.py\n"
      ]
    },
    {
      "attachments": {},
      "cell_type": "markdown",
      "metadata": {},
      "source": [
        "Do not run the code below in colab if you want to see the maze! <----------------\n",
        "\n",
        "CreateMaze() needs tkinter!"
      ]
    },
    {
      "cell_type": "code",
      "execution_count": 1,
      "metadata": {
        "colab": {
          "base_uri": "https://localhost:8080/"
        },
        "id": "Oyp8g6jUiyw1",
        "outputId": "212d0bbe-451d-4701-c18e-6c7b6903d2f2"
      },
      "outputs": [],
      "source": [
        "#!pip install pyamaze"
      ]
    },
    {
      "cell_type": "code",
      "execution_count": 2,
      "metadata": {
        "id": "54PxtFf-yict"
      },
      "outputs": [],
      "source": [
        "from pyamaze import maze, agent ,COLOR, textLabel\n",
        "from queue import PriorityQueue\n",
        "from collections import deque\n",
        "import numpy as np\n",
        "import os\n",
        "from os import listdir\n",
        "import time"
      ]
    },
    {
      "cell_type": "code",
      "execution_count": 3,
      "metadata": {
        "id": "UTOQFFN5jBod"
      },
      "outputs": [],
      "source": [
        "def h_cost(current_cell,target_cell,mode):\n",
        "    '''Choose between : manhattan, euclidean'''\n",
        "\n",
        "    x1,y1=current_cell\n",
        "    x2,y2=target_cell\n",
        "\n",
        "    if mode == 'manhattan':\n",
        "        return abs(x1-x2) + abs(y1-y2)      \n",
        "    # elif mode == 'diagonal':\n",
        "    #     dx = abs(x1-x2)\n",
        "    #     dy = abs(y1-y2)\n",
        "    #     D=1                     #I need the right value for the cell's width    \n",
        "    #     D2=np.sqrt(2)               \n",
        "    #     return D*(dx + dy)+(D2- 2*D)*min(dx, dy)\n",
        "    elif mode == 'euclidean':\n",
        "        return np.sqrt((x1-x2)**2+(y1-y2)**2)\n",
        "    else:\n",
        "        print(f'\\nThe {mode} heuristic function is not supported!')\n",
        "        print()"
      ]
    },
    {
      "cell_type": "code",
      "execution_count": 4,
      "metadata": {
        "id": "330HPijSjFCf"
      },
      "outputs": [],
      "source": [
        "def A_star(m, start=None, goal=None, heuristic=None):\n",
        "    '''A* Search Algorithm'''\n",
        "    if start is None:\n",
        "        start_cell=(m.rows,m.cols)\n",
        "    else:\n",
        "        start_cell=start\n",
        "    if goal is None:\n",
        "        goal_cell=(1,1)\n",
        "    else:\n",
        "        goal_cell=goal\n",
        "    \n",
        "    if heuristic is None:\n",
        "        mode='manhattan'\n",
        "    else:\n",
        "        mode=heuristic\n",
        "\n",
        "\n",
        "    g_cost={cell:float('inf') for cell in m.grid}\n",
        "    g_cost[start_cell]=0\n",
        "    f_cost={cell:float('inf') for cell in m.grid}\n",
        "    f_cost[start_cell]=h_cost(start_cell,goal_cell,mode) + g_cost[start_cell]\n",
        "\n",
        "    open_=PriorityQueue()\n",
        "    open_.put((f_cost[start_cell], h_cost(start_cell,goal_cell,mode), start_cell))\n",
        "    aPath={}\n",
        "    searchPath=[start_cell]\n",
        "\n",
        "    while not open_.empty():\n",
        "        currCell=open_.get()[2]     #get the cell with the minimum f_cost\n",
        "        searchPath.append(currCell)\n",
        "        if currCell==goal_cell:\n",
        "            break\n",
        "        for d in 'ESNW':\n",
        "            if m.maze_map[currCell][d]==True:\n",
        "                if d=='E':\n",
        "                    childCell=(currCell[0],currCell[1]+1)\n",
        "                if d=='W':\n",
        "                    childCell=(currCell[0],currCell[1]-1)\n",
        "                if d=='N':\n",
        "                    childCell=(currCell[0]-1,currCell[1])\n",
        "                if d=='S':\n",
        "                    childCell=(currCell[0]+1,currCell[1])\n",
        "\n",
        "                temp_g_cost=g_cost[currCell]+1\n",
        "                temp_f_cost=temp_g_cost + h_cost(childCell,goal_cell,mode)\n",
        "\n",
        "                if temp_f_cost < f_cost[childCell]:\n",
        "                    g_cost[childCell]=temp_g_cost\n",
        "                    f_cost[childCell]=temp_f_cost\n",
        "                    open_.put((f_cost[childCell],h_cost(childCell,goal_cell,mode),childCell))\n",
        "                    aPath[childCell]=currCell\n",
        "\n",
        "    fwdPath={}\n",
        "    cell=goal_cell\n",
        "    while cell != start_cell:\n",
        "        fwdPath[aPath[cell]]=cell\n",
        "        cell=aPath[cell]\n",
        "    return searchPath, aPath, fwdPath"
      ]
    },
    {
      "cell_type": "code",
      "execution_count": 5,
      "metadata": {},
      "outputs": [],
      "source": [
        "def find_csv_filenames( path_to_dir, suffix=\".csv\" ):\n",
        "    filenames = listdir(path_to_dir)\n",
        "    return [ filename for filename in filenames if filename.endswith( suffix ) ]"
      ]
    },
    {
      "cell_type": "code",
      "execution_count": 6,
      "metadata": {},
      "outputs": [],
      "source": [
        "# def BFS(m,start=None, goal=None):\n",
        "#     if start is None:\n",
        "#         start_cell=(m.rows,m.cols)\n",
        "#     else:\n",
        "#         start_cell = start\n",
        "#     if goal is None:\n",
        "#         goal_cell=(1,1)\n",
        "#     else:\n",
        "#         goal_cell = goal\n",
        "\n",
        "#     frontier = deque()\n",
        "#     frontier.append(start_cell)\n",
        "#     bfsPath = {}\n",
        "#     explored = [start_cell]\n",
        "#     bSearch=[]\n",
        "\n",
        "#     while len(frontier)>0:\n",
        "#         currCell=frontier.popleft()\n",
        "#         if currCell==m._goal:\n",
        "#             break\n",
        "#         for d in 'ESNW':\n",
        "#             if m.maze_map[currCell][d]==True:\n",
        "#                 if d=='E':\n",
        "#                     childCell=(currCell[0],currCell[1]+1)\n",
        "#                 elif d=='W':\n",
        "#                     childCell=(currCell[0],currCell[1]-1)\n",
        "#                 elif d=='S':\n",
        "#                     childCell=(currCell[0]+1,currCell[1])\n",
        "#                 elif d=='N':\n",
        "#                     childCell=(currCell[0]-1,currCell[1])\n",
        "#                 if childCell in explored:\n",
        "#                     continue\n",
        "#                 frontier.append(childCell)\n",
        "#                 explored.append(childCell)\n",
        "#                 bfsPath[childCell] = currCell\n",
        "#                 bSearch.append(childCell)\n",
        "#     # print(f'{bfsPath}')\n",
        "#     fwdPath={}\n",
        "#     cell=goal_cell\n",
        "#     while cell!=start_cell:\n",
        "#         fwdPath[bfsPath[cell]]=cell\n",
        "#         cell=bfsPath[cell]\n",
        "#     return bSearch,bfsPath,fwdPath"
      ]
    },
    {
      "cell_type": "code",
      "execution_count": 7,
      "metadata": {
        "colab": {
          "base_uri": "https://localhost:8080/",
          "height": 381
        },
        "id": "w5G5_WxEoEtR",
        "outputId": "09763646-febc-4335-cea8-3bc6b266b016"
      },
      "outputs": [],
      "source": [
        "def main():\n",
        "\n",
        "    m=maze(20,20)\n",
        "    start=(1,1)\n",
        "    goal=(18,19) #(m.rows,m.cols)\n",
        "    heuristic_mode='manhattan'\n",
        "\n",
        "    m.CreateMaze(goal[0],goal[1], loopPercent=50, saveMaze=False)  #change loopPercent to make maze with less or more loops\n",
        "    directory = os.getcwd()\n",
        "    filenames = find_csv_filenames(directory)\n",
        "    for filename in filenames:\n",
        "        if 'maze--' in filename:\n",
        "            my_maze = filename\n",
        "\n",
        "    a=agent(m, start[0],start[1], shape='arrow', footprints=True)\n",
        "    road=agent(m, start[0], start[1], shape='square',footprints=True, color=COLOR.cyan)\n",
        "    backroad=agent(m, goal[0], goal[1], shape='square', footprints=True, color=COLOR.green, goal=start)\n",
        "\n",
        "    #A*\n",
        "    searchPath,aPath,fwdPath=A_star(m, start, goal, heuristic_mode)\n",
        "    m.tracePath({road:searchPath},delay=50)\n",
        "    m.tracePath({backroad:aPath}, delay=50)\n",
        "    m.tracePath({a:fwdPath},delay=50)\n",
        "\n",
        "    l=textLabel(m,'A* Search Algorithm',101)\n",
        "\n",
        "    print(f'The heuristic function is {heuristic_mode}')\n",
        "    print(f'A Star Path Length {len(fwdPath)+1}')\n",
        "    print(f'A Star Search Length {len(searchPath)}')\n",
        "    print()\n",
        "\n",
        "    m.run()\n",
        "    \n",
        "    # time.sleep()  \n",
        "\n",
        "    # m=maze(20,20)\n",
        "    # start=(1,1)\n",
        "    # goal=(18,19) #(m.rows,m.cols)\n",
        "\n",
        "    # m.CreateMaze(goal[0],goal[1], loadMaze=my_maze)\n",
        "\n",
        "    # a=agent(m, start[0],start[1], shape='arrow', footprints=True)\n",
        "    # road=agent(m, start[0], start[1], shape='square',footprints=True, color=COLOR.cyan)\n",
        "    # backroad=agent(m, goal[0], goal[1], shape='square', footprints=True, color=COLOR.green, goal=start)\n",
        "\n",
        "    # searchPath,bfsPath,fwdPath=BFS(m, start, goal)\n",
        "\n",
        "    # m.tracePath({road:searchPath},delay=50)\n",
        "    # m.tracePath({backroad:bfsPath}, delay=50)\n",
        "    # m.tracePath({a:fwdPath},delay=50)\n",
        "\n",
        "    # l=textLabel(m,'Breadth First Search Algorithm',102)\n",
        "    # print(f'BFS Path Length {len(fwdPath)+1}')\n",
        "    # print(f'BFS Search Length {len(searchPath)}')\n",
        "    # m.run()\n",
        "    \n",
        "    # os.remove(my_maze)"
      ]
    },
    {
      "cell_type": "code",
      "execution_count": 8,
      "metadata": {},
      "outputs": [
        {
          "name": "stdout",
          "output_type": "stream",
          "text": [
            "The heuristic function is manhattan\n",
            "A Star Path Length 40\n",
            "A Star Search Length 208\n",
            "\n"
          ]
        }
      ],
      "source": [
        "main()"
      ]
    },
    {
      "attachments": {},
      "cell_type": "markdown",
      "metadata": {},
      "source": [
        "tkinter needs the kernel to be restarted in order to run properly !!!"
      ]
    }
  ],
  "metadata": {
    "colab": {
      "provenance": []
    },
    "kernelspec": {
      "display_name": "Python 3",
      "name": "python3"
    },
    "language_info": {
      "codemirror_mode": {
        "name": "ipython",
        "version": 3
      },
      "file_extension": ".py",
      "mimetype": "text/x-python",
      "name": "python",
      "nbconvert_exporter": "python",
      "pygments_lexer": "ipython3",
      "version": "3.11.2"
    }
  },
  "nbformat": 4,
  "nbformat_minor": 0
}
